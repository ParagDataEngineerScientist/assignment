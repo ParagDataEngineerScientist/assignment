{
 "cells": [
  {
   "cell_type": "markdown",
   "metadata": {
    "id": "Huczk85VOFoO"
   },
   "source": []
  },
  {
   "cell_type": "markdown",
   "metadata": {
    "id": "sS9S_Dm1OFoW"
   },
   "source": [
    "## Data Acquisition - MySQL Workbench and Tableau"
   ]
  },
  {
   "cell_type": "markdown",
   "metadata": {
    "id": "JWubUEICOFoQ"
   },
   "source": [
    "### Import necessary Libraries"
   ]
  },
  {
   "cell_type": "code",
   "execution_count": 1,
   "metadata": {
    "colab": {
     "base_uri": "https://localhost:8080/"
    },
    "executionInfo": {
     "elapsed": 3319,
     "status": "ok",
     "timestamp": 1642630252116,
     "user": {
      "displayName": "Naomi Nikita Thammadi",
      "photoUrl": "https://lh3.googleusercontent.com/a/default-user=s64",
      "userId": "12357254589332450802"
     },
     "user_tz": 300
    },
    "id": "1npz0mVhOFoQ",
    "outputId": "153fcece-7414-4899-db3e-d6333c5ab608",
    "scrolled": true
   },
   "outputs": [
    {
     "name": "stdout",
     "output_type": "stream",
     "text": [
      "Requirement already satisfied: requests in ./opt/anaconda3/lib/python3.8/site-packages (2.27.1)\n",
      "Requirement already satisfied: charset-normalizer~=2.0.0 in ./opt/anaconda3/lib/python3.8/site-packages (from requests) (2.0.12)\n",
      "Requirement already satisfied: certifi>=2017.4.17 in ./opt/anaconda3/lib/python3.8/site-packages (from requests) (2021.10.8)\n",
      "Requirement already satisfied: idna<4,>=2.5 in ./opt/anaconda3/lib/python3.8/site-packages (from requests) (3.3)\n",
      "Requirement already satisfied: urllib3<1.27,>=1.21.1 in ./opt/anaconda3/lib/python3.8/site-packages (from requests) (1.26.8)\n",
      "Requirement already satisfied: pymysql in ./opt/anaconda3/lib/python3.8/site-packages (1.0.2)\n"
     ]
    }
   ],
   "source": [
    "#import necessary libraries\n",
    "!pip install requests\n",
    "!pip install pymysql\n",
    "import requests\n",
    "import os\n",
    "import json\n",
    "import csv\n",
    "import pandas as pd\n",
    "import numpy as np\n",
    "import math\n",
    "\n",
    "#libraries to make a connection to mysql\n",
    "import sqlalchemy\n",
    "from sqlalchemy import create_engine\n",
    "import pymysql"
   ]
  },
  {
   "cell_type": "markdown",
   "metadata": {
    "id": "20E7GnJsOFoR"
   },
   "source": [
    "### Functions "
   ]
  },
  {
   "cell_type": "code",
   "execution_count": 17,
   "metadata": {
    "executionInfo": {
     "elapsed": 10,
     "status": "ok",
     "timestamp": 1642630252116,
     "user": {
      "displayName": "Naomi Nikita Thammadi",
      "photoUrl": "https://lh3.googleusercontent.com/a/default-user=s64",
      "userId": "12357254589332450802"
     },
     "user_tz": 300
    },
    "id": "bPBOJIQqOFoR"
   },
   "outputs": [],
   "source": [
    "#function to get the element for phone number from the json \n",
    "def get_correct_phone_data(arr):\n",
    "    #data can be NaN or a list\n",
    "    #below conditions check for that to get the right data within the list\n",
    "    if type(arr) == list:\n",
    "        if(len(arr)>1 and 'value' not in arr[0].keys()):\n",
    "            return arr[1]\n",
    "        else:\n",
    "            return arr[0]\n",
    "    elif math.isnan(arr) == False:\n",
    "        return arr[0]\n",
    "    else:\n",
    "        return 'unknown'"
   ]
  },
  {
   "cell_type": "code",
   "execution_count": 18,
   "metadata": {
    "executionInfo": {
     "elapsed": 10,
     "status": "ok",
     "timestamp": 1642630252117,
     "user": {
      "displayName": "Naomi Nikita Thammadi",
      "photoUrl": "https://lh3.googleusercontent.com/a/default-user=s64",
      "userId": "12357254589332450802"
     },
     "user_tz": 300
    },
    "id": "RX_2Nj7lOFoR",
    "scrolled": true
   },
   "outputs": [],
   "source": [
    "#function to clean patient data to convert lists to string and get right data from the json\n",
    "def clean_patient_data(df):\n",
    "    df['Name_JSON']=df['Name_JSON'].str[0]\n",
    "    df['Address_JSON']=df['Address_JSON'].str[0]\n",
    "    df['Phone_JSON']=df['Phone_JSON'].apply(lambda x:get_correct_phone_data(x))"
   ]
  },
  {
   "cell_type": "code",
   "execution_count": 19,
   "metadata": {
    "executionInfo": {
     "elapsed": 10,
     "status": "ok",
     "timestamp": 1642630252117,
     "user": {
      "displayName": "Naomi Nikita Thammadi",
      "photoUrl": "https://lh3.googleusercontent.com/a/default-user=s64",
      "userId": "12357254589332450802"
     },
     "user_tz": 300
    },
    "id": "BVxPhkLUOFoS"
   },
   "outputs": [],
   "source": [
    "#function to get name, address and phone details from the json\n",
    "def concat_patient_data(df):\n",
    "    #get name details and drop unnecessary columns\n",
    "    name_df=df['Name_JSON'].apply(json.dumps).apply(json.loads).apply(pd.Series)\n",
    "    name_df['Given Name']=[' '.join(map(str, l)) for l in name_df['given']]\n",
    "    name_df.drop(['use','fhir_comments','text','given','prefix'], axis = 1, inplace = True, errors='ignore')\n",
    "    \n",
    "    #get address details, format them and drop unnecessary columns\n",
    "    address_df=df['Address_JSON'].apply(json.dumps).apply(json.loads).apply(pd.Series)\n",
    "    address_df.drop([0,'district','text','type','use','period','extension','fhir_comments'], axis = 1, inplace = True, errors='ignore')\n",
    "    address_df.fillna('', inplace=True)\n",
    "    #combine street address into one line\n",
    "    address_df['line'] = [','.join(map(str, l)) for l in address_df['line']]\n",
    "    #combine street address, city, state, country into one column separated by (,)\n",
    "    address_df['Address']=address_df.apply(lambda row: ','.join(row.values.astype(str)), axis=1)\n",
    "    address_df.Address = address_df.Address.replace({',,,,,': 'unknown'})\n",
    "    address_df.rename(columns={'city': 'City', 'state': 'State', 'country': 'Country'}, inplace=True)\n",
    "    \n",
    "    #get phone details and drop unnecessary columns\n",
    "    phone_df=df['Phone_JSON'].apply(json.dumps).apply(json.loads).apply(pd.Series)\n",
    "    phone_df['Phone']=phone_df['value']\n",
    "    phone_df.drop([0,'rank','system','use','value'], axis = 1, inplace = True, errors='ignore')\n",
    "    phone_df.fillna('-', inplace=True)\n",
    "    \n",
    "    #concatenate all these dataframes into one and return it\n",
    "    df=pd.concat([df,name_df,address_df,phone_df],axis=1)\n",
    "    \n",
    "    return df"
   ]
  },
  {
   "cell_type": "code",
   "execution_count": 20,
   "metadata": {
    "executionInfo": {
     "elapsed": 10,
     "status": "ok",
     "timestamp": 1642630252117,
     "user": {
      "displayName": "Naomi Nikita Thammadi",
      "photoUrl": "https://lh3.googleusercontent.com/a/default-user=s64",
      "userId": "12357254589332450802"
     },
     "user_tz": 300
    },
    "id": "nD6eGqGAOFoT"
   },
   "outputs": [],
   "source": [
    "#function to arrange the data correctly to display\n",
    "def arrange_patient_data(df):\n",
    "    df['Family Name']=df['family']\n",
    "    df.drop(['Name_JSON','Address_JSON','Phone_JSON','family','line','postalCode','period','id'], axis = 1, inplace = True, errors='ignore')\n",
    "    df.fillna('-', inplace=True)\n",
    "    df['Date of Death'] = df['Date of Death'].replace({'-': 'unknown'})\n",
    "    df=df[['Patient Id','Given Name','Family Name','Gender','Date of Birth','Date of Death','Address','City','State','Country','Phone']]\n",
    "    return df"
   ]
  },
  {
   "cell_type": "markdown",
   "metadata": {},
   "source": [
    "## Retrieving details of Deceased Patients using FHIR REST API"
   ]
  },
  {
   "cell_type": "code",
   "execution_count": 21,
   "metadata": {
    "executionInfo": {
     "elapsed": 10,
     "status": "ok",
     "timestamp": 1642630252117,
     "user": {
      "displayName": "Naomi Nikita Thammadi",
      "photoUrl": "https://lh3.googleusercontent.com/a/default-user=s64",
      "userId": "12357254589332450802"
     },
     "user_tz": 300
    },
    "id": "9DqVbgvVOFoT"
   },
   "outputs": [],
   "source": [
    "#function to search for patients based on search string\n",
    "def search_patients():\n",
    "    #url to make the API callout\n",
    "    url='http://hapi.fhir.org/baseR4/Patient?deceased=true'\n",
    "    response = requests.get(url)\n",
    "    #format the response to json\n",
    "    resp=response.json() \n",
    "    #store into a dataframe\n",
    "    data=pd.json_normalize(resp['entry'])\n",
    "    \n",
    "    patient_df=data.filter(['resource.id','resource.name','resource.gender','resource.birthDate','resource.deceasedDateTime','resource.address','resource.telecom','resource.deceasedBoolean'], axis=1)\n",
    "    patient_df.columns=['Patient Id','Name_JSON','Gender','Date of Birth','Date of Death', 'Address_JSON','Phone_JSON','Deceased']\n",
    "    \n",
    "    #call functions to run the necessary data preprocessing steps\n",
    "    clean_patient_data(patient_df)\n",
    "    patient_df=concat_patient_data(patient_df)\n",
    "    patient_df=arrange_patient_data(patient_df)\n",
    "    \n",
    "    return patient_df"
   ]
  },
  {
   "cell_type": "code",
   "execution_count": 22,
   "metadata": {
    "executionInfo": {
     "elapsed": 9,
     "status": "ok",
     "timestamp": 1642630252117,
     "user": {
      "displayName": "Naomi Nikita Thammadi",
      "photoUrl": "https://lh3.googleusercontent.com/a/default-user=s64",
      "userId": "12357254589332450802"
     },
     "user_tz": 300
    },
    "id": "rGWKljX-OFoW"
   },
   "outputs": [],
   "source": [
    "#function to display search results in a html\n",
    "def on_search_clicked(b):\n",
    "    search_patients.data=''\n",
    "    results=search_patients()\n",
    "    \n",
    "    #set the dataframe into a HTML table\n",
    "    search_patients.data= results.to_html();\n",
    "    \n",
    "    display(HTML(search_patients.data))"
   ]
  },
  {
   "cell_type": "markdown",
   "metadata": {
    "id": "sS9S_Dm1OFoW"
   },
   "source": [
    "## Display Patient Details"
   ]
  },
  {
   "cell_type": "code",
   "execution_count": 23,
   "metadata": {
    "colab": {
     "base_uri": "https://localhost:8080/",
     "height": 741,
     "referenced_widgets": [
      "73a9a64f9eba4e73841b825a03851621",
      "b7ecea006fe2407880b5fb913c914242",
      "5073892033ef405e9b6c6adfe314b772",
      "92545687959b418f849287528ead060e",
      "446fb1dc2fbb48f3b1355141e90c7de3",
      "c1fa108ab83a42018c9583177dfaffcb"
     ]
    },
    "executionInfo": {
     "elapsed": 9,
     "status": "ok",
     "timestamp": 1642630252117,
     "user": {
      "displayName": "Naomi Nikita Thammadi",
      "photoUrl": "https://lh3.googleusercontent.com/a/default-user=s64",
      "userId": "12357254589332450802"
     },
     "user_tz": 300
    },
    "id": "rkJwOp_ROFoW",
    "outputId": "7ca046fc-4e84-4901-8b52-950bf0fe2919",
    "scrolled": false
   },
   "outputs": [
    {
     "name": "stderr",
     "output_type": "stream",
     "text": [
      "/var/folders/w1/dw5vm6p955bgmws4x53sjlym0000gn/T/ipykernel_15344/148168325.py:2: DeprecationWarning: Importing display from IPython.core.display is deprecated since IPython 7.14, please import from IPython display\n",
      "  from IPython.core.display import display, HTML\n"
     ]
    },
    {
     "data": {
      "text/html": [
       "<h4>Click on \"Display Patients\" to show all the deceased patients.</h4>"
      ],
      "text/plain": [
       "<IPython.core.display.HTML object>"
      ]
     },
     "metadata": {},
     "output_type": "display_data"
    },
    {
     "data": {
      "application/vnd.jupyter.widget-view+json": {
       "model_id": "445b2977721b45f0af53ad989009f255",
       "version_major": 2,
       "version_minor": 0
      },
      "text/plain": [
       "Button(button_style='success', description='Display Patients', style=ButtonStyle())"
      ]
     },
     "metadata": {},
     "output_type": "display_data"
    }
   ],
   "source": [
    "from ipywidgets import widgets\n",
    "from IPython.core.display import display, HTML\n",
    "\n",
    "display(HTML('<h4>Click on \"Display Patients\" to show all the deceased patients.</h4>'))\n",
    "search_btn=widgets.Button(description=\"Display Patients\",button_style=\"success\")\n",
    "display(search_btn)\n",
    "search_btn.on_click(on_search_clicked)\n",
    "\n"
   ]
  },
  {
   "cell_type": "markdown",
   "metadata": {
    "id": "sS9S_Dm1OFoW"
   },
   "source": [
    "## Data Ingestion - Transfer Patient details to MySQL database"
   ]
  },
  {
   "cell_type": "code",
   "execution_count": 24,
   "metadata": {},
   "outputs": [
    {
     "data": {
      "text/html": [
       "<div>\n",
       "<style scoped>\n",
       "    .dataframe tbody tr th:only-of-type {\n",
       "        vertical-align: middle;\n",
       "    }\n",
       "\n",
       "    .dataframe tbody tr th {\n",
       "        vertical-align: top;\n",
       "    }\n",
       "\n",
       "    .dataframe thead th {\n",
       "        text-align: right;\n",
       "    }\n",
       "</style>\n",
       "<table border=\"1\" class=\"dataframe\">\n",
       "  <thead>\n",
       "    <tr style=\"text-align: right;\">\n",
       "      <th></th>\n",
       "      <th>patient_id</th>\n",
       "      <th>given_name</th>\n",
       "      <th>family_name</th>\n",
       "      <th>gender</th>\n",
       "      <th>date_of_birth</th>\n",
       "      <th>date_of_death</th>\n",
       "      <th>city</th>\n",
       "      <th>state</th>\n",
       "      <th>phone</th>\n",
       "      <th>death_by_natural_cause</th>\n",
       "      <th>alcohol_intake</th>\n",
       "      <th>nicotine_intake</th>\n",
       "      <th>race</th>\n",
       "      <th>bmi</th>\n",
       "      <th>health_issues</th>\n",
       "    </tr>\n",
       "  </thead>\n",
       "  <tbody>\n",
       "    <tr>\n",
       "      <th>0</th>\n",
       "      <td>7949473</td>\n",
       "      <td>Gaynor</td>\n",
       "      <td>Titta</td>\n",
       "      <td>Female</td>\n",
       "      <td>6/4/46</td>\n",
       "      <td>10/22/16 15:42</td>\n",
       "      <td>West Palm Beach</td>\n",
       "      <td>Florida</td>\n",
       "      <td>561-553-2724</td>\n",
       "      <td>0</td>\n",
       "      <td>Never</td>\n",
       "      <td>Never</td>\n",
       "      <td>Asian</td>\n",
       "      <td>Normal</td>\n",
       "      <td>1</td>\n",
       "    </tr>\n",
       "    <tr>\n",
       "      <th>1</th>\n",
       "      <td>9662622</td>\n",
       "      <td>Oona</td>\n",
       "      <td>Pusill</td>\n",
       "      <td>Female</td>\n",
       "      <td>11/26/65</td>\n",
       "      <td>5/17/16 22:33</td>\n",
       "      <td>Hollywood</td>\n",
       "      <td>Florida</td>\n",
       "      <td>954-178-3132</td>\n",
       "      <td>0</td>\n",
       "      <td>Often</td>\n",
       "      <td>Often</td>\n",
       "      <td>Alaska Native</td>\n",
       "      <td>Over weight</td>\n",
       "      <td>1</td>\n",
       "    </tr>\n",
       "    <tr>\n",
       "      <th>2</th>\n",
       "      <td>6716847</td>\n",
       "      <td>Yetta</td>\n",
       "      <td>Taysbil</td>\n",
       "      <td>Male</td>\n",
       "      <td>9/14/47</td>\n",
       "      <td>11/16/07 10:39</td>\n",
       "      <td>Jersey City</td>\n",
       "      <td>New Jersey</td>\n",
       "      <td>201-765-7538</td>\n",
       "      <td>0</td>\n",
       "      <td>Never</td>\n",
       "      <td>Never</td>\n",
       "      <td>African American</td>\n",
       "      <td>Under weight</td>\n",
       "      <td>1</td>\n",
       "    </tr>\n",
       "    <tr>\n",
       "      <th>3</th>\n",
       "      <td>8349189</td>\n",
       "      <td>Farrah</td>\n",
       "      <td>Bartles</td>\n",
       "      <td>Male</td>\n",
       "      <td>12/8/97</td>\n",
       "      <td>2/18/00 1:18</td>\n",
       "      <td>Murfreesboro</td>\n",
       "      <td>Tennessee</td>\n",
       "      <td>615-130-9597</td>\n",
       "      <td>0</td>\n",
       "      <td>Often</td>\n",
       "      <td>Often</td>\n",
       "      <td>Alaska Native</td>\n",
       "      <td>Over weight</td>\n",
       "      <td>0</td>\n",
       "    </tr>\n",
       "    <tr>\n",
       "      <th>4</th>\n",
       "      <td>3790901</td>\n",
       "      <td>Richardo</td>\n",
       "      <td>Hedau</td>\n",
       "      <td>Bigender</td>\n",
       "      <td>7/11/77</td>\n",
       "      <td>12/24/93 11:05</td>\n",
       "      <td>Reston</td>\n",
       "      <td>Virginia</td>\n",
       "      <td>571-153-4428</td>\n",
       "      <td>1</td>\n",
       "      <td>Never</td>\n",
       "      <td>Occasionally</td>\n",
       "      <td>Native Hawaiian</td>\n",
       "      <td>Normal</td>\n",
       "      <td>1</td>\n",
       "    </tr>\n",
       "  </tbody>\n",
       "</table>\n",
       "</div>"
      ],
      "text/plain": [
       "   patient_id given_name family_name    gender date_of_birth   date_of_death  \\\n",
       "0     7949473     Gaynor       Titta    Female        6/4/46  10/22/16 15:42   \n",
       "1     9662622       Oona      Pusill    Female      11/26/65   5/17/16 22:33   \n",
       "2     6716847      Yetta     Taysbil      Male       9/14/47  11/16/07 10:39   \n",
       "3     8349189     Farrah     Bartles      Male       12/8/97    2/18/00 1:18   \n",
       "4     3790901   Richardo       Hedau  Bigender       7/11/77  12/24/93 11:05   \n",
       "\n",
       "              city       state         phone  death_by_natural_cause  \\\n",
       "0  West Palm Beach     Florida  561-553-2724                       0   \n",
       "1        Hollywood     Florida  954-178-3132                       0   \n",
       "2      Jersey City  New Jersey  201-765-7538                       0   \n",
       "3     Murfreesboro   Tennessee  615-130-9597                       0   \n",
       "4           Reston    Virginia  571-153-4428                       1   \n",
       "\n",
       "  alcohol_intake nicotine_intake              race           bmi  \\\n",
       "0          Never           Never             Asian        Normal   \n",
       "1          Often           Often     Alaska Native   Over weight   \n",
       "2          Never           Never  African American  Under weight   \n",
       "3          Often           Often     Alaska Native   Over weight   \n",
       "4          Never    Occasionally   Native Hawaiian        Normal   \n",
       "\n",
       "   health_issues  \n",
       "0              1  \n",
       "1              1  \n",
       "2              1  \n",
       "3              0  \n",
       "4              1  "
      ]
     },
     "execution_count": 24,
     "metadata": {},
     "output_type": "execute_result"
    }
   ],
   "source": [
    "#read the csv files and convert into dataframe\n",
    "\n",
    "file_name='/Users/apple/Desktop/patient_data.csv'\n",
    "patients_df=pd.read_csv(file_name)\n",
    "patients_df.head()"
   ]
  },
  {
   "cell_type": "code",
   "execution_count": 25,
   "metadata": {},
   "outputs": [
    {
     "data": {
      "text/plain": [
       "(10000, 15)"
      ]
     },
     "execution_count": 25,
     "metadata": {},
     "output_type": "execute_result"
    }
   ],
   "source": [
    "patients_df.shape"
   ]
  },
  {
   "cell_type": "code",
   "execution_count": 26,
   "metadata": {},
   "outputs": [
    {
     "name": "stdout",
     "output_type": "stream",
     "text": [
      "<class 'pandas.core.frame.DataFrame'>\n",
      "RangeIndex: 10000 entries, 0 to 9999\n",
      "Data columns (total 15 columns):\n",
      " #   Column                  Non-Null Count  Dtype \n",
      "---  ------                  --------------  ----- \n",
      " 0   patient_id              10000 non-null  int64 \n",
      " 1   given_name              10000 non-null  object\n",
      " 2   family_name             10000 non-null  object\n",
      " 3   gender                  10000 non-null  object\n",
      " 4   date_of_birth           10000 non-null  object\n",
      " 5   date_of_death           10000 non-null  object\n",
      " 6   city                    10000 non-null  object\n",
      " 7   state                   10000 non-null  object\n",
      " 8   phone                   10000 non-null  object\n",
      " 9   death_by_natural_cause  10000 non-null  int64 \n",
      " 10  alcohol_intake          10000 non-null  object\n",
      " 11  nicotine_intake         10000 non-null  object\n",
      " 12  race                    10000 non-null  object\n",
      " 13  bmi                     10000 non-null  object\n",
      " 14  health_issues           10000 non-null  int64 \n",
      "dtypes: int64(3), object(12)\n",
      "memory usage: 1.1+ MB\n"
     ]
    }
   ],
   "source": [
    "patients_df.info()"
   ]
  },
  {
   "cell_type": "code",
   "execution_count": 27,
   "metadata": {},
   "outputs": [],
   "source": [
    "#convert date fields in the correct format to insert into the database\n",
    "patients_df['date_of_birth']=pd.to_datetime(patients_df.date_of_birth)\n",
    "patients_df['date_of_death']=pd.to_datetime(patients_df.date_of_death)"
   ]
  },
  {
   "cell_type": "markdown",
   "metadata": {
    "id": "sS9S_Dm1OFoW"
   },
   "source": [
    "## Connect to MySQL"
   ]
  },
  {
   "cell_type": "code",
   "execution_count": 37,
   "metadata": {},
   "outputs": [
    {
     "name": "stdout",
     "output_type": "stream",
     "text": [
      "Connected to MySQL database\n"
     ]
    }
   ],
   "source": [
    "import mysql.connector\n",
    "from mysql.connector import Error\n",
    "\n",
    "\n",
    "def connect():\n",
    "    \"\"\" Connect to MySQL database \"\"\"\n",
    "    conn = None\n",
    "    try:\n",
    "        conn = mysql.connector.connect(host='localhost',\n",
    "                                       database='Patient_DB',\n",
    "                                       user='root',\n",
    "                                       password='Pass')\n",
    "        if conn.is_connected():\n",
    "            print('Connected to MySQL database')\n",
    "\n",
    "    except Error as e:\n",
    "        print(e)\n",
    "\n",
    "    finally:\n",
    "        if conn is not None and conn.is_connected():\n",
    "            conn.close()\n",
    "\n",
    "\n",
    "if __name__ == '__main__':\n",
    "    connect()"
   ]
  },
  {
   "cell_type": "markdown",
   "metadata": {
    "id": "sS9S_Dm1OFoW"
   },
   "source": [
    "## Transfer data to MySQL"
   ]
  },
  {
   "cell_type": "code",
   "execution_count": 48,
   "metadata": {},
   "outputs": [
    {
     "data": {
      "text/plain": [
       "10000"
      ]
     },
     "execution_count": 48,
     "metadata": {},
     "output_type": "execute_result"
    }
   ],
   "source": [
    "hostname=\"localhost\"\n",
    "dbname=\"Patient_DB\"\n",
    "uname=\"root\"\n",
    "pwd=\"Pass\"\n",
    "engine = create_engine(\"mysql+pymysql://{user}:{pw}@{host}/{db}\".format(host=hostname, db=dbname, user=uname, pw=pwd))\n",
    "\n",
    "# Convert dataframe to sql table                                   \n",
    "patients_df.to_sql('patients', engine, index=False)"
   ]
  },
  {
   "cell_type": "code",
   "execution_count": 35,
   "metadata": {
    "executionInfo": {
     "elapsed": 9,
     "status": "ok",
     "timestamp": 1642630252117,
     "user": {
      "displayName": "Naomi Nikita Thammadi",
      "photoUrl": "https://lh3.googleusercontent.com/a/default-user=s64",
      "userId": "12357254589332450802"
     },
     "user_tz": 300
    },
    "id": "rGWKljX-OFoW"
   },
   "outputs": [],
   "source": [
    " patients = sqlalchemy.Table('patients', metadata, autoload=True, autoload_with=sqlEngine)\n",
    "        query = sqlalchemy.select([patients]).where(sqlalchemy.and_(patients.columns.gender==\"Female\",patients.columns.state==\"Florida\")).order_by(sqlalchemy.asc(patients.columns.family_name)) \n",
    "                #Equivalent to 'SELECT * FROM patients WHERE gender=Female AND state=Florida order by family_name'\n",
    "        ResultProxy = dbConnection.execute(query).fetchall()\n",
    "        ResultSet=pd.DataFrame(ResultProxy)\n",
    "        ResultSet.columns = patients.columns.keys()"
   ]
  },
  {
   "cell_type": "code",
   "execution_count": 50,
   "metadata": {},
   "outputs": [
    {
     "name": "stdout",
     "output_type": "stream",
     "text": [
      "Total number of rows in table:  10000\n",
      "MySQL connection is closed\n"
     ]
    }
   ],
   "source": [
    "import mysql.connector\n",
    "\n",
    "try:\n",
    "    connection = mysql.connector.connect(host='localhost',\n",
    "                                         database='Patient_DB',\n",
    "                                         user='root',\n",
    "                                         password='Pass')\n",
    "\n",
    "    sql_select_Query = \"select * from patients\"\n",
    "    cursor = connection.cursor()\n",
    "    cursor.execute(sql_select_Query)\n",
    "    # get all records\n",
    "    records = cursor.fetchall()\n",
    "    print(\"Total number of rows in table: \", cursor.rowcount)\n",
    "\n",
    "\n",
    "except mysql.connector.Error as e:\n",
    "    print(\"Error reading data from MySQL table\", e)\n",
    "finally:\n",
    "    if connection.is_connected():\n",
    "        connection.close()\n",
    "        cursor.close()\n",
    "        print(\"MySQL connection is closed\")"
   ]
  },
  {
   "cell_type": "markdown",
   "metadata": {
    "id": "sS9S_Dm1OFoW"
   },
   "source": [
    "## Retrieve data from MySQL"
   ]
  },
  {
   "cell_type": "code",
   "execution_count": 56,
   "metadata": {},
   "outputs": [
    {
     "name": "stdout",
     "output_type": "stream",
     "text": [
      "('West Palm Beach', Decimal('15'))\n",
      "('Hollywood', Decimal('9'))\n",
      "('Jersey City', Decimal('8'))\n",
      "('Murfreesboro', Decimal('7'))\n",
      "('Reston', Decimal('6'))\n",
      "('Portland', Decimal('38'))\n",
      "('Sioux Falls', Decimal('16'))\n",
      "('Los Angeles', Decimal('67'))\n",
      "('Mesa', Decimal('10'))\n",
      "('Saint Louis', Decimal('48'))\n",
      "('Dallas', Decimal('72'))\n",
      "('El Paso', Decimal('93'))\n",
      "('Long Beach', Decimal('28'))\n",
      "('Minneapolis', Decimal('43'))\n",
      "('Port Charlotte', Decimal('3'))\n",
      "('Falls Church', Decimal('5'))\n",
      "('Arlington', Decimal('35'))\n",
      "('Colorado Springs', Decimal('35'))\n",
      "('Prescott', Decimal('6'))\n",
      "('Fort Wayne', Decimal('23'))\n",
      "('Boise', Decimal('16'))\n",
      "('Dayton', Decimal('28'))\n",
      "('Washington', Decimal('193'))\n",
      "('Sacramento', Decimal('66'))\n",
      "('Louisville', Decimal('44'))\n",
      "('Rochester', Decimal('39'))\n",
      "('Shreveport', Decimal('23'))\n",
      "('Newark', Decimal('20'))\n",
      "('Atlanta', Decimal('73'))\n",
      "('San Antonio', Decimal('64'))\n",
      "('Pasadena', Decimal('25'))\n",
      "('Philadelphia', Decimal('46'))\n",
      "('Champaign', Decimal('4'))\n",
      "('Raleigh', Decimal('32'))\n",
      "('Flushing', Decimal('5'))\n",
      "('Jacksonville', Decimal('36'))\n",
      "('Pittsburgh', Decimal('37'))\n",
      "('Springfield', Decimal('71'))\n",
      "('Houston', Decimal('136'))\n",
      "('Gainesville', Decimal('17'))\n",
      "('Shawnee Mission', Decimal('25'))\n",
      "('Newton', Decimal('9'))\n",
      "('Watertown', Decimal('2'))\n",
      "('Schenectady', Decimal('7'))\n",
      "('Saint Petersburg', Decimal('18'))\n",
      "('Gadsden', Decimal('3'))\n",
      "('Glendale', Decimal('19'))\n",
      "('Buffalo', Decimal('26'))\n",
      "('Richmond', Decimal('42'))\n",
      "('College Station', Decimal('3'))\n",
      "('Tucson', Decimal('45'))\n",
      "('Anchorage', Decimal('25'))\n",
      "('San Diego', Decimal('50'))\n",
      "('New York City', Decimal('129'))\n",
      "('Mobile', Decimal('31'))\n",
      "('Jackson', Decimal('27'))\n",
      "('Virginia Beach', Decimal('10'))\n",
      "('Savannah', Decimal('8'))\n",
      "('Miami', Decimal('62'))\n",
      "('Albany', Decimal('47'))\n",
      "('Austin', Decimal('51'))\n",
      "('Fresno', Decimal('34'))\n",
      "('Fort Myers', Decimal('16'))\n",
      "('Memphis', Decimal('46'))\n",
      "('Charlotte', Decimal('46'))\n",
      "('Topeka', Decimal('27'))\n",
      "('Oakland', Decimal('22'))\n",
      "('Kansas City', Decimal('58'))\n",
      "('Clearwater', Decimal('17'))\n",
      "('Greenville', Decimal('8'))\n",
      "('Tacoma', Decimal('30'))\n",
      "('Indianapolis', Decimal('34'))\n",
      "('Pinellas Park', Decimal('2'))\n",
      "('Phoenix', Decimal('60'))\n",
      "('Sioux City', Decimal('12'))\n",
      "('York', Decimal('0'))\n",
      "('Saint Augustine', Decimal('5'))\n",
      "('Northridge', Decimal('1'))\n",
      "('Abilene', Decimal('3'))\n",
      "('Omaha', Decimal('37'))\n",
      "('San Francisco', Decimal('38'))\n",
      "('Charlottesville', Decimal('6'))\n",
      "('Jamaica', Decimal('16'))\n",
      "('Albuquerque', Decimal('33'))\n",
      "('Amarillo', Decimal('21'))\n",
      "('Peoria', Decimal('36'))\n",
      "('Van Nuys', Decimal('11'))\n",
      "('Denver', Decimal('46'))\n",
      "('Winter Haven', Decimal('9'))\n",
      "('Winston Salem', Decimal('20'))\n",
      "('Des Moines', Decimal('38'))\n",
      "('Bridgeport', Decimal('6'))\n",
      "('Cleveland', Decimal('23'))\n",
      "('Biloxi', Decimal('3'))\n",
      "('Reading', Decimal('8'))\n",
      "('Santa Ana', Decimal('8'))\n",
      "('Columbia', Decimal('16'))\n",
      "('Englewood', Decimal('2'))\n",
      "('Santa Barbara', Decimal('14'))\n",
      "('Lexington', Decimal('33'))\n",
      "('Detroit', Decimal('44'))\n",
      "('Grand Forks', Decimal('0'))\n",
      "('Tampa', Decimal('42'))\n",
      "('New Orleans', Decimal('38'))\n",
      "('Charleston', Decimal('37'))\n",
      "('Fort Lauderdale', Decimal('22'))\n",
      "('Plano', Decimal('4'))\n",
      "('Spokane', Decimal('19'))\n",
      "('Redwood City', Decimal('2'))\n",
      "('Salinas', Decimal('4'))\n",
      "('Seattle', Decimal('49'))\n",
      "('Beaumont', Decimal('10'))\n",
      "('Montgomery', Decimal('30'))\n",
      "('Chattanooga', Decimal('6'))\n",
      "('Columbus', Decimal('49'))\n",
      "('Little Rock', Decimal('14'))\n",
      "('Erie', Decimal('13'))\n",
      "('Birmingham', Decimal('50'))\n",
      "('South Bend', Decimal('16'))\n",
      "('Daytona Beach', Decimal('13'))\n",
      "('Salt Lake City', Decimal('57'))\n",
      "('Inglewood', Decimal('12'))\n",
      "('Boston', Decimal('43'))\n",
      "('Las Vegas', Decimal('54'))\n",
      "('Bakersfield', Decimal('16'))\n",
      "('Oklahoma City', Decimal('54'))\n",
      "('Fullerton', Decimal('8'))\n",
      "('Worcester', Decimal('7'))\n",
      "('Milwaukee', Decimal('37'))\n",
      "('Reno', Decimal('11'))\n",
      "('Youngstown', Decimal('10'))\n",
      "('Hialeah', Decimal('6'))\n",
      "('Fort Worth', Decimal('37'))\n",
      "('Laurel', Decimal('3'))\n",
      "('Torrance', Decimal('13'))\n",
      "('Nashville', Decimal('24'))\n",
      "('Harrisburg', Decimal('15'))\n",
      "('Ocala', Decimal('16'))\n",
      "('Riverside', Decimal('9'))\n",
      "('Southfield', Decimal('3'))\n",
      "('Fairfax', Decimal('4'))\n",
      "('Schaumburg', Decimal('4'))\n",
      "('Tallahassee', Decimal('12'))\n",
      "('Lake Charles', Decimal('5'))\n",
      "('Cedar Rapids', Decimal('4'))\n",
      "('Cincinnati', Decimal('64'))\n",
      "('Orlando', Decimal('43'))\n",
      "('Odessa', Decimal('9'))\n",
      "('Hartford', Decimal('22'))\n",
      "('Lincoln', Decimal('18'))\n",
      "('Dulles', Decimal('5'))\n",
      "('Aurora', Decimal('14'))\n",
      "('Roanoke', Decimal('26'))\n",
      "('Knoxville', Decimal('21'))\n",
      "('Oxnard', Decimal('7'))\n",
      "('Wilmington', Decimal('20'))\n",
      "('Merrifield', Decimal('5'))\n",
      "('Garland', Decimal('10'))\n",
      "('Suffolk', Decimal('1'))\n",
      "('Brooklyn', Decimal('27'))\n",
      "('Norcross', Decimal('2'))\n",
      "('Naperville', Decimal('4'))\n",
      "('Juneau', Decimal('2'))\n",
      "('Durham', Decimal('7'))\n",
      "('Woburn', Decimal('5'))\n",
      "('Pensacola', Decimal('25'))\n",
      "('Baton Rouge', Decimal('27'))\n",
      "('Greensboro', Decimal('13'))\n",
      "('Homestead', Decimal('2'))\n",
      "('San Bernardino', Decimal('15'))\n",
      "('Chicago', Decimal('62'))\n",
      "('Hyattsville', Decimal('3'))\n",
      "('San Jose', Decimal('36'))\n",
      "('Irvine', Decimal('11'))\n",
      "('Young America', Decimal('10'))\n",
      "('Concord', Decimal('3'))\n",
      "('Grand Junction', Decimal('3'))\n",
      "('Duluth', Decimal('10'))\n",
      "('Fairbanks', Decimal('5'))\n",
      "('Ann Arbor', Decimal('4'))\n",
      "('Midland', Decimal('12'))\n",
      "('Port Washington', Decimal('1'))\n",
      "('Escondido', Decimal('4'))\n",
      "('Tyler', Decimal('9'))\n",
      "('Norman', Decimal('4'))\n",
      "('Wichita Falls', Decimal('6'))\n",
      "('Zephyrhills', Decimal('5'))\n",
      "('Ventura', Decimal('4'))\n",
      "('Bethesda', Decimal('8'))\n",
      "('Terre Haute', Decimal('2'))\n",
      "('North Little Rock', Decimal('7'))\n",
      "('Trenton', Decimal('25'))\n",
      "('Portsmouth', Decimal('9'))\n",
      "('Stockton', Decimal('10'))\n",
      "('Akron', Decimal('18'))\n",
      "('Delray Beach', Decimal('3'))\n",
      "('Ashburn', Decimal('3'))\n",
      "('Lake Worth', Decimal('7'))\n",
      "('Corona', Decimal('13'))\n",
      "('Sparks', Decimal('2'))\n",
      "('Scottsdale', Decimal('13'))\n",
      "('Pompano Beach', Decimal('1'))\n",
      "('Wichita', Decimal('23'))\n",
      "('East Saint Louis', Decimal('3'))\n",
      "('Lancaster', Decimal('7'))\n",
      "('Hicksville', Decimal('3'))\n",
      "('South Lake Tahoe', Decimal('2'))\n",
      "('Fort Collins', Decimal('5'))\n",
      "('Huntington', Decimal('32'))\n",
      "('Honolulu', Decimal('32'))\n",
      "('Vancouver', Decimal('8'))\n",
      "('Anderson', Decimal('8'))\n",
      "('Everett', Decimal('2'))\n",
      "('Waterbury', Decimal('12'))\n",
      "('Henderson', Decimal('9'))\n",
      "('Tulsa', Decimal('35'))\n",
      "('Orange', Decimal('5'))\n",
      "('Palatine', Decimal('3'))\n",
      "('North Hollywood', Decimal('10'))\n",
      "('Carlsbad', Decimal('3'))\n",
      "('Monroe', Decimal('7'))\n",
      "('North Las Vegas', Decimal('5'))\n",
      "('Brockton', Decimal('7'))\n",
      "('Elizabeth', Decimal('4'))\n",
      "('Apache Junction', Decimal('4'))\n",
      "('Dearborn', Decimal('3'))\n",
      "('Gatesville', Decimal('1'))\n",
      "('Macon', Decimal('11'))\n",
      "('Baltimore', Decimal('31'))\n",
      "('Helena', Decimal('4'))\n",
      "('Carol Stream', Decimal('7'))\n",
      "('Garden Grove', Decimal('5'))\n",
      "('Lubbock', Decimal('17'))\n",
      "('San Mateo', Decimal('4'))\n",
      "('Anaheim', Decimal('7'))\n",
      "('Brooksville', Decimal('3'))\n",
      "('Corpus Christi', Decimal('21'))\n",
      "('Longview', Decimal('2'))\n",
      "('Evanston', Decimal('5'))\n",
      "('Hampton', Decimal('5'))\n",
      "('Saint Paul', Decimal('26'))\n",
      "('Norfolk', Decimal('16'))\n",
      "('Sunnyvale', Decimal('5'))\n",
      "('Bronx', Decimal('19'))\n",
      "('San Rafael', Decimal('5'))\n",
      "('Elmira', Decimal('1'))\n",
      "('Toledo', Decimal('17'))\n",
      "('Yonkers', Decimal('3'))\n",
      "('Metairie', Decimal('4'))\n",
      "('Scranton', Decimal('10'))\n",
      "('Gilbert', Decimal('6'))\n",
      "('Waltham', Decimal('1'))\n",
      "('Canton', Decimal('18'))\n",
      "('Fayetteville', Decimal('4'))\n",
      "('Carson City', Decimal('10'))\n",
      "('Kalamazoo', Decimal('7'))\n",
      "('Modesto', Decimal('7'))\n",
      "('Pomona', Decimal('2'))\n",
      "('White Plains', Decimal('8'))\n",
      "('Littleton', Decimal('14'))\n",
      "('Salem', Decimal('9'))\n",
      "('North Port', Decimal('7'))\n",
      "('Tempe', Decimal('4'))\n",
      "('Palo Alto', Decimal('4'))\n",
      "('Asheville', Decimal('7'))\n",
      "('Sarasota', Decimal('16'))\n",
      "('Evansville', Decimal('22'))\n",
      "('Lynchburg', Decimal('6'))\n",
      "('Katy', Decimal('4'))\n",
      "('Cumming', Decimal('4'))\n",
      "('Naples', Decimal('17'))\n",
      "('Boca Raton', Decimal('4'))\n",
      "('Maple Plain', Decimal('8'))\n",
      "('Burbank', Decimal('3'))\n",
      "('Bloomington', Decimal('5'))\n",
      "('Spring Hill', Decimal('3'))\n",
      "('Herndon', Decimal('8'))\n",
      "('Boulder', Decimal('8'))\n",
      "('Decatur', Decimal('11'))\n",
      "('Vero Beach', Decimal('9'))\n",
      "('Silver Spring', Decimal('8'))\n",
      "('Lawrenceville', Decimal('4'))\n",
      "('Rockford', Decimal('12'))\n",
      "('Crawfordsville', Decimal('2'))\n",
      "('Muskegon', Decimal('3'))\n",
      "('Arvada', Decimal('1'))\n",
      "('New Haven', Decimal('18'))\n",
      "('Billings', Decimal('4'))\n",
      "('Round Rock', Decimal('5'))\n",
      "('Fargo', Decimal('2'))\n",
      "('Largo', Decimal('3'))\n",
      "('Farmington', Decimal('2'))\n",
      "('Norwalk', Decimal('8'))\n",
      "('Berkeley', Decimal('6'))\n",
      "('Paterson', Decimal('14'))\n",
      "('Lakeland', Decimal('11'))\n",
      "('Bethlehem', Decimal('2'))\n",
      "('Cape Coral', Decimal('2'))\n",
      "('Grand Rapids', Decimal('22'))\n",
      "('Hot Springs National Park', Decimal('2'))\n",
      "('Galveston', Decimal('3'))\n",
      "('Spring', Decimal('8'))\n",
      "('Waterloo', Decimal('4'))\n",
      "('Mc Keesport', Decimal('3'))\n",
      "('Hayward', Decimal('4'))\n",
      "('Chesapeake', Decimal('6'))\n",
      "('Santa Cruz', Decimal('5'))\n",
      "('Lafayette', Decimal('18'))\n",
      "('Huntsville', Decimal('19'))\n",
      "('Monticello', Decimal('9'))\n",
      "('Bryan', Decimal('1'))\n",
      "('Saint Cloud', Decimal('11'))\n",
      "('Bradenton', Decimal('10'))\n",
      "('Temple', Decimal('3'))\n",
      "('Chula Vista', Decimal('4'))\n",
      "('Valley Forge', Decimal('3'))\n",
      "('Alexandria', Decimal('9'))\n",
      "('Gastonia', Decimal('6'))\n",
      "('Waco', Decimal('11'))\n",
      "('Newport Beach', Decimal('2'))\n",
      "('Utica', Decimal('2'))\n",
      "('Ogden', Decimal('7'))\n",
      "('Irving', Decimal('7'))\n",
      "('Green Bay', Decimal('9'))\n",
      "('Petaluma', Decimal('1'))\n",
      "('Madison', Decimal('25'))\n",
      "('Montpelier', Decimal('3'))\n",
      "('High Point', Decimal('5'))\n",
      "('Cambridge', Decimal('3'))\n",
      "('Meridian', Decimal('3'))\n",
      "('Greeley', Decimal('2'))\n",
      "('Brea', Decimal('3'))\n",
      "('Lansing', Decimal('18'))\n",
      "('Kent', Decimal('3'))\n",
      "('Beaverton', Decimal('3'))\n",
      "('Annapolis', Decimal('4'))\n",
      "('Gaithersburg', Decimal('4'))\n",
      "('Lynn', Decimal('2'))\n",
      "('Allentown', Decimal('2'))\n",
      "('Punta Gorda', Decimal('4'))\n",
      "('Kingsport', Decimal('3'))\n",
      "('Sterling', Decimal('5'))\n",
      "('West Hartford', Decimal('3'))\n",
      "('Santa Rosa', Decimal('7'))\n",
      "('Providence', Decimal('11'))\n",
      "('Athens', Decimal('8'))\n",
      "('Seminole', Decimal('5'))\n",
      "('Lehigh Acres', Decimal('3'))\n",
      "('Fairfield', Decimal('3'))\n",
      "('Visalia', Decimal('2'))\n",
      "('Jefferson City', Decimal('4'))\n",
      "('Mountain View', Decimal('7'))\n",
      "('Pocatello', Decimal('9'))\n",
      "('New Hyde Park', Decimal('2'))\n",
      "('Syracuse', Decimal('11'))\n",
      "('Lima', Decimal('1'))\n",
      "('Johnson City', Decimal('6'))\n",
      "('Edmond', Decimal('4'))\n",
      "('Idaho Falls', Decimal('5'))\n",
      "('San Angelo', Decimal('2'))\n",
      "('Marietta', Decimal('8'))\n",
      "('Staten Island', Decimal('3'))\n",
      "('New Brunswick', Decimal('5'))\n",
      "('Panama City', Decimal('7'))\n",
      "('Augusta', Decimal('9'))\n",
      "('Texarkana', Decimal('3'))\n",
      "('Bismarck', Decimal('3'))\n",
      "('Pueblo', Decimal('10'))\n",
      "('Warren', Decimal('7'))\n",
      "('Fort Pierce', Decimal('11'))\n",
      "('Olympia', Decimal('6'))\n",
      "('Cheyenne', Decimal('3'))\n",
      "('Humble', Decimal('7'))\n",
      "('Muncie', Decimal('2'))\n",
      "('Ridgely', Decimal('2'))\n",
      "('Manchester', Decimal('2'))\n",
      "('Mount Vernon', Decimal('1'))\n",
      "('Spartanburg', Decimal('10'))\n",
      "('Lees Summit', Decimal('1'))\n",
      "('Gulfport', Decimal('2'))\n",
      "('Santa Fe', Decimal('4'))\n",
      "('Iowa City', Decimal('3'))\n",
      "('London', Decimal('2'))\n",
      "('Oceanside', Decimal('1'))\n",
      "('Las Cruces', Decimal('5'))\n",
      "('Mesquite', Decimal('2'))\n",
      "('Conroe', Decimal('2'))\n",
      "('Appleton', Decimal('3'))\n",
      "('Flint', Decimal('12'))\n",
      "('Saint Joseph', Decimal('2'))\n",
      "('Florence', Decimal('2'))\n",
      "('Frederick', Decimal('4'))\n",
      "('Palm Bay', Decimal('1'))\n",
      "('Eugene', Decimal('2'))\n",
      "('Laredo', Decimal('3'))\n",
      "('Rockville', Decimal('3'))\n",
      "('Racine', Decimal('3'))\n",
      "('Whittier', Decimal('7'))\n",
      "('Davenport', Decimal('6'))\n",
      "('Frankfort', Decimal('1'))\n",
      "('Bonita Springs', Decimal('3'))\n",
      "('Port Saint Lucie', Decimal('5'))\n",
      "('Chandler', Decimal('6'))\n",
      "('Valdosta', Decimal('2'))\n",
      "('Danbury', Decimal('0'))\n",
      "('Palmdale', Decimal('2'))\n",
      "('Stamford', Decimal('8'))\n",
      "('Morgantown', Decimal('5'))\n",
      "('Denton', Decimal('8'))\n",
      "('Sandy', Decimal('2'))\n",
      "('Tuscaloosa', Decimal('8'))\n",
      "('Bellevue', Decimal('3'))\n",
      "('Anniston', Decimal('2'))\n",
      "('Camden', Decimal('1'))\n",
      "('Fredericksburg', Decimal('4'))\n",
      "('Newport News', Decimal('7'))\n",
      "('Troy', Decimal('3'))\n",
      "('Saginaw', Decimal('4'))\n",
      "('Hattiesburg', Decimal('2'))\n",
      "('Fort Smith', Decimal('6'))\n",
      "('Joliet', Decimal('0'))\n",
      "('Wilkes Barre', Decimal('5'))\n",
      "('Battle Creek', Decimal('3'))\n",
      "('Independence', Decimal('1'))\n",
      "('Hagerstown', Decimal('3'))\n",
      "('Great Neck', Decimal('4'))\n",
      "('Boynton Beach', Decimal('5'))\n",
      "('Chico', Decimal('2'))\n",
      "('Mansfield', Decimal('1'))\n",
      "('Migrate', Decimal('2'))\n",
      "('Aiken', Decimal('4'))\n",
      "('Lakewood', Decimal('2'))\n",
      "('Alhambra', Decimal('2'))\n",
      "('Miami Beach', Decimal('3'))\n",
      "('Loretto', Decimal('4'))\n",
      "('Provo', Decimal('3'))\n",
      "('Manassas', Decimal('4'))\n",
      "('Bowie', Decimal('3'))\n",
      "('Santa Clara', Decimal('3'))\n",
      "('Jeffersonville', Decimal('3'))\n",
      "('Santa Monica', Decimal('3'))\n",
      "('New Castle', Decimal('2'))\n",
      "('Vienna', Decimal('1'))\n",
      "('Huntington Beach', Decimal('4'))\n",
      "('Beaufort', Decimal('2'))\n",
      "('San Luis Obispo', Decimal('3'))\n",
      "('Myrtle Beach', Decimal('3'))\n",
      "('Melbourne', Decimal('8'))\n",
      "('New Bedford', Decimal('2'))\n",
      "('Moreno Valley', Decimal('1'))\n",
      "('Hamilton', Decimal('2'))\n",
      "('Kissimmee', Decimal('4'))\n",
      "('Yakima', Decimal('2'))\n",
      "('Killeen', Decimal('2'))\n",
      "('Simi Valley', Decimal('1'))\n",
      "('Johnstown', Decimal('1'))\n",
      "('Alpharetta', Decimal('0'))\n",
      "('Levittown', Decimal('2'))\n",
      "('Bozeman', Decimal('2'))\n",
      "('Missoula', Decimal('0'))\n"
     ]
    }
   ],
   "source": [
    "import mysql.connector\n",
    "\n",
    "mydb = mysql.connector.connect(\n",
    "  host=\"localhost\",\n",
    "  user=\"root\",\n",
    "  password=\"Pass\",\n",
    "  database=\"Patient_DB\"\n",
    ")\n",
    "\n",
    "mycursor = mydb.cursor()\n",
    "\n",
    "mycursor.execute(\"SELECT city, sum(health_issues) as total_health_issues FROM Patients group by city\")\n",
    "\n",
    "myresult = mycursor.fetchall()\n",
    "\n",
    "for x in myresult:\n",
    "    print(x)"
   ]
  },
  {
   "cell_type": "markdown",
   "metadata": {},
   "source": [
    "### Assignment:\n",
    "\n",
    "<ol>\n",
    "    <li>Create a Patients table in MySQL</li>\n",
    "    <li>Load <b>patients_data.csv</b> into python</li>\n",
    "    <li>Transfer patients data to MySQL</li>\n",
    "    <li>Retrieve patients data from MySQL to Tableau</li>\n",
    "    <li>Run some analytics on MySQL/Tableau</li>\n",
    "</ol>"
   ]
  }
 ],
 "metadata": {
  "colab": {
   "name": "FHIR Demo.ipynb",
   "provenance": []
  },
  "kernelspec": {
   "display_name": "Python 3 (ipykernel)",
   "language": "python",
   "name": "python3"
  },
  "language_info": {
   "codemirror_mode": {
    "name": "ipython",
    "version": 3
   },
   "file_extension": ".py",
   "mimetype": "text/x-python",
   "name": "python",
   "nbconvert_exporter": "python",
   "pygments_lexer": "ipython3",
   "version": "3.8.8"
  },
  "widgets": {
   "application/vnd.jupyter.widget-state+json": {
    "446fb1dc2fbb48f3b1355141e90c7de3": {
     "model_module": "@jupyter-widgets/controls",
     "model_module_version": "1.5.0",
     "model_name": "ButtonStyleModel",
     "state": {
      "_model_module": "@jupyter-widgets/controls",
      "_model_module_version": "1.5.0",
      "_model_name": "ButtonStyleModel",
      "_view_count": null,
      "_view_module": "@jupyter-widgets/base",
      "_view_module_version": "1.2.0",
      "_view_name": "StyleView",
      "button_color": null,
      "font_weight": ""
     }
    },
    "5073892033ef405e9b6c6adfe314b772": {
     "model_module": "@jupyter-widgets/base",
     "model_module_version": "1.2.0",
     "model_name": "LayoutModel",
     "state": {
      "_model_module": "@jupyter-widgets/base",
      "_model_module_version": "1.2.0",
      "_model_name": "LayoutModel",
      "_view_count": null,
      "_view_module": "@jupyter-widgets/base",
      "_view_module_version": "1.2.0",
      "_view_name": "LayoutView",
      "align_content": null,
      "align_items": null,
      "align_self": null,
      "border": null,
      "bottom": null,
      "display": null,
      "flex": null,
      "flex_flow": null,
      "grid_area": null,
      "grid_auto_columns": null,
      "grid_auto_flow": null,
      "grid_auto_rows": null,
      "grid_column": null,
      "grid_gap": null,
      "grid_row": null,
      "grid_template_areas": null,
      "grid_template_columns": null,
      "grid_template_rows": null,
      "height": null,
      "justify_content": null,
      "justify_items": null,
      "left": null,
      "margin": null,
      "max_height": null,
      "max_width": null,
      "min_height": null,
      "min_width": null,
      "object_fit": null,
      "object_position": null,
      "order": null,
      "overflow": null,
      "overflow_x": null,
      "overflow_y": null,
      "padding": null,
      "right": null,
      "top": null,
      "visibility": null,
      "width": null
     }
    },
    "73a9a64f9eba4e73841b825a03851621": {
     "model_module": "@jupyter-widgets/controls",
     "model_module_version": "1.5.0",
     "model_name": "TextModel",
     "state": {
      "_dom_classes": [],
      "_model_module": "@jupyter-widgets/controls",
      "_model_module_version": "1.5.0",
      "_model_name": "TextModel",
      "_view_count": null,
      "_view_module": "@jupyter-widgets/controls",
      "_view_module_version": "1.5.0",
      "_view_name": "TextView",
      "continuous_update": true,
      "description": "Enter Name:",
      "description_tooltip": null,
      "disabled": false,
      "layout": "IPY_MODEL_5073892033ef405e9b6c6adfe314b772",
      "placeholder": "example: Jane",
      "style": "IPY_MODEL_b7ecea006fe2407880b5fb913c914242",
      "value": "Peter"
     }
    },
    "92545687959b418f849287528ead060e": {
     "model_module": "@jupyter-widgets/controls",
     "model_module_version": "1.5.0",
     "model_name": "ButtonModel",
     "state": {
      "_dom_classes": [],
      "_model_module": "@jupyter-widgets/controls",
      "_model_module_version": "1.5.0",
      "_model_name": "ButtonModel",
      "_view_count": null,
      "_view_module": "@jupyter-widgets/controls",
      "_view_module_version": "1.5.0",
      "_view_name": "ButtonView",
      "button_style": "success",
      "description": "Search",
      "disabled": false,
      "icon": "",
      "layout": "IPY_MODEL_c1fa108ab83a42018c9583177dfaffcb",
      "style": "IPY_MODEL_446fb1dc2fbb48f3b1355141e90c7de3",
      "tooltip": ""
     }
    },
    "b7ecea006fe2407880b5fb913c914242": {
     "model_module": "@jupyter-widgets/controls",
     "model_module_version": "1.5.0",
     "model_name": "DescriptionStyleModel",
     "state": {
      "_model_module": "@jupyter-widgets/controls",
      "_model_module_version": "1.5.0",
      "_model_name": "DescriptionStyleModel",
      "_view_count": null,
      "_view_module": "@jupyter-widgets/base",
      "_view_module_version": "1.2.0",
      "_view_name": "StyleView",
      "description_width": ""
     }
    },
    "c1fa108ab83a42018c9583177dfaffcb": {
     "model_module": "@jupyter-widgets/base",
     "model_module_version": "1.2.0",
     "model_name": "LayoutModel",
     "state": {
      "_model_module": "@jupyter-widgets/base",
      "_model_module_version": "1.2.0",
      "_model_name": "LayoutModel",
      "_view_count": null,
      "_view_module": "@jupyter-widgets/base",
      "_view_module_version": "1.2.0",
      "_view_name": "LayoutView",
      "align_content": null,
      "align_items": null,
      "align_self": null,
      "border": null,
      "bottom": null,
      "display": null,
      "flex": null,
      "flex_flow": null,
      "grid_area": null,
      "grid_auto_columns": null,
      "grid_auto_flow": null,
      "grid_auto_rows": null,
      "grid_column": null,
      "grid_gap": null,
      "grid_row": null,
      "grid_template_areas": null,
      "grid_template_columns": null,
      "grid_template_rows": null,
      "height": null,
      "justify_content": null,
      "justify_items": null,
      "left": null,
      "margin": null,
      "max_height": null,
      "max_width": null,
      "min_height": null,
      "min_width": null,
      "object_fit": null,
      "object_position": null,
      "order": null,
      "overflow": null,
      "overflow_x": null,
      "overflow_y": null,
      "padding": null,
      "right": null,
      "top": null,
      "visibility": null,
      "width": null
     }
    }
   }
  }
 },
 "nbformat": 4,
 "nbformat_minor": 1
}
